{
 "cells": [
  {
   "cell_type": "code",
   "execution_count": 1,
   "id": "e298b0de-d59b-4c7b-9e0a-95c1fd033486",
   "metadata": {},
   "outputs": [],
   "source": [
    "import io\n",
    "import sys\n",
    "import math\n",
    "import json\n",
    "import numpy as np\n",
    "import pandas as pd\n",
    "import matplotlib.pyplot as plt\n",
    "from urllib.request import urlopen"
   ]
  },
  {
   "cell_type": "code",
   "execution_count": 2,
   "id": "d0076a3a-6372-4571-afcd-f63706be7f90",
   "metadata": {},
   "outputs": [
    {
     "name": "stdout",
     "output_type": "stream",
     "text": [
      "(9704, 5)\n"
     ]
    },
    {
     "data": {
      "text/html": [
       "<div>\n",
       "<style scoped>\n",
       "    .dataframe tbody tr th:only-of-type {\n",
       "        vertical-align: middle;\n",
       "    }\n",
       "\n",
       "    .dataframe tbody tr th {\n",
       "        vertical-align: top;\n",
       "    }\n",
       "\n",
       "    .dataframe thead th {\n",
       "        text-align: right;\n",
       "    }\n",
       "</style>\n",
       "<table border=\"1\" class=\"dataframe\">\n",
       "  <thead>\n",
       "    <tr style=\"text-align: right;\">\n",
       "      <th></th>\n",
       "      <th>engine_displacement</th>\n",
       "      <th>horsepower</th>\n",
       "      <th>vehicle_weight</th>\n",
       "      <th>model_year</th>\n",
       "      <th>fuel_efficiency_mpg</th>\n",
       "    </tr>\n",
       "  </thead>\n",
       "  <tbody>\n",
       "    <tr>\n",
       "      <th>0</th>\n",
       "      <td>170</td>\n",
       "      <td>159.0</td>\n",
       "      <td>3413.433759</td>\n",
       "      <td>2003</td>\n",
       "      <td>13.231729</td>\n",
       "    </tr>\n",
       "    <tr>\n",
       "      <th>1</th>\n",
       "      <td>130</td>\n",
       "      <td>97.0</td>\n",
       "      <td>3149.664934</td>\n",
       "      <td>2007</td>\n",
       "      <td>13.688217</td>\n",
       "    </tr>\n",
       "    <tr>\n",
       "      <th>2</th>\n",
       "      <td>170</td>\n",
       "      <td>78.0</td>\n",
       "      <td>3079.038997</td>\n",
       "      <td>2018</td>\n",
       "      <td>14.246341</td>\n",
       "    </tr>\n",
       "    <tr>\n",
       "      <th>3</th>\n",
       "      <td>220</td>\n",
       "      <td>NaN</td>\n",
       "      <td>2542.392402</td>\n",
       "      <td>2009</td>\n",
       "      <td>16.912736</td>\n",
       "    </tr>\n",
       "    <tr>\n",
       "      <th>4</th>\n",
       "      <td>210</td>\n",
       "      <td>140.0</td>\n",
       "      <td>3460.870990</td>\n",
       "      <td>2009</td>\n",
       "      <td>12.488369</td>\n",
       "    </tr>\n",
       "  </tbody>\n",
       "</table>\n",
       "</div>"
      ],
      "text/plain": [
       "   engine_displacement  horsepower  vehicle_weight  model_year  \\\n",
       "0                  170       159.0     3413.433759        2003   \n",
       "1                  130        97.0     3149.664934        2007   \n",
       "2                  170        78.0     3079.038997        2018   \n",
       "3                  220         NaN     2542.392402        2009   \n",
       "4                  210       140.0     3460.870990        2009   \n",
       "\n",
       "   fuel_efficiency_mpg  \n",
       "0            13.231729  \n",
       "1            13.688217  \n",
       "2            14.246341  \n",
       "3            16.912736  \n",
       "4            12.488369  "
      ]
     },
     "execution_count": 2,
     "metadata": {},
     "output_type": "execute_result"
    }
   ],
   "source": [
    "URL = \"https://raw.githubusercontent.com/alexeygrigorev/datasets/master/car_fuel_efficiency.csv\"\n",
    "\n",
    "df_full = pd.read_csv(URL)\n",
    "cols = [\n",
    "    \"engine_displacement\",\n",
    "    \"horsepower\",\n",
    "    \"vehicle_weight\",\n",
    "    \"model_year\",\n",
    "    \"fuel_efficiency_mpg\",\n",
    "]\n",
    "df = df_full[cols].copy()\n",
    "\n",
    "print(df.shape)\n",
    "df.head()"
   ]
  },
  {
   "cell_type": "code",
   "execution_count": 3,
   "id": "35fb7f97-6091-4981-a41f-b9290e81b95a",
   "metadata": {},
   "outputs": [
    {
     "name": "stdout",
     "output_type": "stream",
     "text": [
      "Skewness: -0.012062219273507922\n"
     ]
    },
    {
     "data": {
      "image/png": "[encoded data removed]",
      "text/plain": [
       "<Figure size 640x480 with 1 Axes>"
      ]
     },
     "metadata": {},
     "output_type": "display_data"
    }
   ],
   "source": [
    "target = \"fuel_efficiency_mpg\"\n",
    "\n",
    "print(\"Skewness:\", df[target].skew())\n",
    "ax = df[target].hist(bins=30)\n",
    "ax.set_title(\"fuel_efficiency_mpg\")\n",
    "ax.set_xlabel(\"mpg\")\n",
    "ax.set_ylabel(\"count\")\n",
    "plt.show()"
   ]
  },
  {
   "cell_type": "code",
   "execution_count": 5,
   "id": "afb9c089-6b11-4e13-89d5-34cbd534e8b4",
   "metadata": {},
   "outputs": [
    {
     "data": {
      "text/plain": [
       "horsepower             708\n",
       "engine_displacement      0\n",
       "vehicle_weight           0\n",
       "model_year               0\n",
       "fuel_efficiency_mpg      0\n",
       "dtype: int64"
      ]
     },
     "metadata": {},
     "output_type": "display_data"
    },
    {
     "name": "stdout",
     "output_type": "stream",
     "text": [
      "Q1 — Column with missing values: horsepower\n"
     ]
    }
   ],
   "source": [
    "# Q1\n",
    "na_counts = df.isna().sum().sort_values(ascending=False)\n",
    "display(na_counts)\n",
    "\n",
    "col_with_na = na_counts[na_counts > 0].index[0] if (na_counts > 0).any() else None\n",
    "print(\"Q1 — Column with missing values:\", col_with_na)"
   ]
  },
  {
   "cell_type": "code",
   "execution_count": 6,
   "id": "4e4b6c07-4803-43f7-8c33-ba4a140df62c",
   "metadata": {},
   "outputs": [
    {
     "name": "stdout",
     "output_type": "stream",
     "text": [
      "Q2 — Median horsepower: 149.0\n"
     ]
    }
   ],
   "source": [
    "# Q2\n",
    "median_hp = float(df[\"horsepower\"].median())\n",
    "print(\"Q2 — Median horsepower:\", median_hp)"
   ]
  },
  {
   "cell_type": "code",
   "execution_count": 7,
   "id": "8dd67028-3827-4690-939c-f3abdc913501",
   "metadata": {},
   "outputs": [
    {
     "data": {
      "text/plain": [
       "(5822, 1940, 1942)"
      ]
     },
     "execution_count": 7,
     "metadata": {},
     "output_type": "execute_result"
    }
   ],
   "source": [
    "def split_train_val_test(dataframe, seed=42):\n",
    "    n = len(dataframe)\n",
    "    rng = np.random.RandomState(seed)\n",
    "    idx = np.arange(n)\n",
    "    rng.shuffle(idx)\n",
    "\n",
    "    n_train = int(0.6 * n)\n",
    "    n_val = int(0.2 * n)\n",
    "    n_test = n - n_train - n_val\n",
    "\n",
    "    idx_train = idx[:n_train]\n",
    "    idx_val = idx[n_train:n_train + n_val]\n",
    "    idx_test = idx[n_train + n_val:]\n",
    "\n",
    "    return (\n",
    "        dataframe.iloc[idx_train].copy(),\n",
    "        dataframe.iloc[idx_val].copy(),\n",
    "        dataframe.iloc[idx_test].copy(),\n",
    "    )\n",
    "\n",
    "df_train, df_val, df_test = split_train_val_test(df, seed=42)\n",
    "len(df_train), len(df_val), len(df_test)"
   ]
  },
  {
   "cell_type": "code",
   "execution_count": 8,
   "id": "1226dcde-4ff4-42e9-8fb2-b00b44d45757",
   "metadata": {},
   "outputs": [],
   "source": [
    "FEATURES = [\"engine_displacement\", \"horsepower\", \"vehicle_weight\", \"model_year\"]\n",
    "TARGET = \"fuel_efficiency_mpg\"\n",
    "\n",
    "def rmse(y, y_pred):\n",
    "    return np.sqrt(np.mean((y - y_pred) ** 2))\n",
    "\n",
    "def prepare_X_y(df_in):\n",
    "    X = df_in[FEATURES].values.astype(float)\n",
    "    y = df_in[TARGET].values.astype(float)\n",
    "    return X, y\n",
    "\n",
    "def add_bias(X):\n",
    "    # Add column of ones at the front for bias\n",
    "    n = X.shape[0]\n",
    "    return np.column_stack([np.ones(n), X])\n",
    "\n",
    "def train_linear_regression(X, y, r=0.0):\n",
    "    \"\"\"\n",
    "    Closed-form: (X^T X + r*I_)^-1 X^T y\n",
    "    We do NOT regularize the bias term.\n",
    "    \"\"\"\n",
    "    Xb = add_bias(X)\n",
    "    n_features = Xb.shape[1]\n",
    "\n",
    "    I = np.eye(n_features)\n",
    "    I[0, 0] = 0.0\n",
    "\n",
    "    A = Xb.T @ Xb + r * I\n",
    "    b = Xb.T @ y\n",
    "    w = np.linalg.inv(A) @ b\n",
    "    return w\n",
    "\n",
    "def predict(X, w):\n",
    "    Xb = add_bias(X)\n",
    "    return Xb @ w\n",
    "\n",
    "def fit_and_eval(train_df, val_df, impute=\"zero\", r=0.0):\n",
    "    # Copy to avoid mutating inputs\n",
    "    tr, va = train_df.copy(), val_df.copy()\n",
    "\n",
    "    if impute == \"zero\":\n",
    "        tr[FEATURES] = tr[FEATURES].fillna(0.0)\n",
    "        va[FEATURES] = va[FEATURES].fillna(0.0)\n",
    "    elif impute == \"train_mean\":\n",
    "        means = tr[FEATURES].mean()\n",
    "        tr[FEATURES] = tr[FEATURES].fillna(means)\n",
    "        # IMPORTANT: use train means for val\n",
    "        va[FEATURES] = va[FEATURES].fillna(means)\n",
    "    else:\n",
    "        raise ValueError(\"impute must be 'zero' or 'train_mean'\")\n",
    "\n",
    "    X_tr, y_tr = prepare_X_y(tr)\n",
    "    X_va, y_va = prepare_X_y(va)\n",
    "\n",
    "    w = train_linear_regression(X_tr, y_tr, r=r)\n",
    "    y_pred = predict(X_va, w)\n",
    "    return rmse(y_va, y_pred), w"
   ]
  },
  {
   "cell_type": "code",
   "execution_count": 9,
   "id": "25bdccdd-353a-4339-8b05-151c29faf19b",
   "metadata": {},
   "outputs": [
    {
     "name": "stdout",
     "output_type": "stream",
     "text": [
      "RMSE (fill 0):    0.52\n",
      "RMSE (fill mean): 0.46\n",
      "Q3 — Best option: With mean\n"
     ]
    }
   ],
   "source": [
    "# Q3\n",
    "df_train, df_val, df_test = split_train_val_test(df, seed=42)\n",
    "\n",
    "rmse_zero, _ = fit_and_eval(df_train, df_val, impute=\"zero\", r=0.0)\n",
    "rmse_mean, _ = fit_and_eval(df_train, df_val, impute=\"train_mean\", r=0.0)\n",
    "\n",
    "print(\"RMSE (fill 0):   \", round(rmse_zero, 2))\n",
    "print(\"RMSE (fill mean):\", round(rmse_mean, 2))\n",
    "\n",
    "if round(rmse_zero, 2) < round(rmse_mean, 2):\n",
    "    q3_answer = \"With 0\"\n",
    "elif round(rmse_zero, 2) > round(rmse_mean, 2):\n",
    "    q3_answer = \"With mean\"\n",
    "else:\n",
    "    q3_answer = \"Both are equally good\"\n",
    "print(\"Q3 — Best option:\", q3_answer)\n"
   ]
  },
  {
   "cell_type": "code",
   "execution_count": 10,
   "id": "6deaf0da-0dae-4c35-b0cd-023c68a5e9ad",
   "metadata": {},
   "outputs": [
    {
     "data": {
      "text/plain": [
       "{0: np.float64(0.52),\n",
       " 0.01: np.float64(0.52),\n",
       " 0.1: np.float64(0.52),\n",
       " 1: np.float64(0.52),\n",
       " 5: np.float64(0.52),\n",
       " 10: np.float64(0.52),\n",
       " 100: np.float64(0.52)}"
      ]
     },
     "execution_count": 10,
     "metadata": {},
     "output_type": "execute_result"
    }
   ],
   "source": [
    "# Q4\n",
    "R_LIST = [0, 0.01, 0.1, 1, 5, 10, 100]\n",
    "\n",
    "scores = {}\n",
    "for r in R_LIST:\n",
    "    score, _ = fit_and_eval(df_train, df_val, impute=\"zero\", r=r)\n",
    "    scores[r] = round(score, 2)\n",
    "\n",
    "scores_sorted = dict(sorted(scores.items(), key=lambda kv: kv[0]))\n",
    "scores_sorted\n"
   ]
  },
  {
   "cell_type": "code",
   "execution_count": 11,
   "id": "8d3d6cf5-250b-4111-96a1-fb99670e6a9a",
   "metadata": {},
   "outputs": [
    {
     "name": "stdout",
     "output_type": "stream",
     "text": [
      "Validation RMSE by r (rounded): {0: np.float64(0.52), 0.01: np.float64(0.52), 0.1: np.float64(0.52), 1: np.float64(0.52), 5: np.float64(0.52), 10: np.float64(0.52), 100: np.float64(0.52)}\n",
      "Q4 — Best r: 0\n"
     ]
    }
   ],
   "source": [
    "# Pick best r\n",
    "best_r = None\n",
    "best_rmse = float(\"inf\")\n",
    "\n",
    "for r, sc in scores.items():\n",
    "    if sc < best_rmse or (math.isclose(sc, best_rmse) and (best_r is None or r < best_r)):\n",
    "        best_rmse = sc\n",
    "        best_r = r\n",
    "\n",
    "print(\"Validation RMSE by r (rounded):\", scores_sorted)\n",
    "print(\"Q4 — Best r:\", best_r)\n"
   ]
  },
  {
   "cell_type": "code",
   "execution_count": 12,
   "id": "81ac373b-fc82-40d3-a87a-08bc5a41d5bf",
   "metadata": {},
   "outputs": [
    {
     "name": "stdout",
     "output_type": "stream",
     "text": [
      "Validation RMSEs: [np.float64(0.521), np.float64(0.522), np.float64(0.523), np.float64(0.516), np.float64(0.511), np.float64(0.529), np.float64(0.532), np.float64(0.51), np.float64(0.515), np.float64(0.513)]\n",
      "Std of RMSEs: 0.007\n"
     ]
    }
   ],
   "source": [
    "# Q5\n",
    "seed_scores = []\n",
    "\n",
    "for seed in range(10):\n",
    "    tr, va, te = split_train_val_test(df, seed=seed)\n",
    "    score, _ = fit_and_eval(tr, va, impute=\"zero\", r=0.0)\n",
    "    seed_scores.append(score)\n",
    "\n",
    "seed_scores = np.array(seed_scores, dtype=float)\n",
    "std_scores = float(np.std(seed_scores))\n",
    "print(\"Validation RMSEs:\", [round(s, 3) for s in seed_scores])\n",
    "print(\"Std of RMSEs:\", round(std_scores, 3))"
   ]
  },
  {
   "cell_type": "code",
   "execution_count": 13,
   "id": "d916a554-37c6-4485-a23e-4c2c0d8b2dbf",
   "metadata": {},
   "outputs": [
    {
     "name": "stdout",
     "output_type": "stream",
     "text": [
      "Q6 — Test RMSE: 0.515\n"
     ]
    }
   ],
   "source": [
    "# Q6\n",
    "tr, va, te = split_train_val_test(df, seed=9)\n",
    "\n",
    "# combine train + val\n",
    "tr_full = pd.concat([tr, va], ignore_index=True)\n",
    "\n",
    "# train with r = 0.001 (tiny regularization)\n",
    "score_test, w = fit_and_eval(tr_full, te, impute=\"zero\", r=0.001)\n",
    "print(\"Q6 — Test RMSE:\", round(score_test, 3))\n"
   ]
  },
  {
   "cell_type": "code",
   "execution_count": null,
   "id": "6f758f1c-c3bb-4591-89cc-0b8fbee2ea23",
   "metadata": {},
   "outputs": [],
   "source": []
  }
 ],
 "metadata": {
  "kernelspec": {
   "display_name": "Python 3 (ipykernel)",
   "language": "python",
   "name": "python3"
  },
  "language_info": {
   "codemirror_mode": {
    "name": "ipython",
    "version": 3
   },
   "file_extension": ".py",
   "mimetype": "text/x-python",
   "name": "python",
   "nbconvert_exporter": "python",
   "pygments_lexer": "ipython3",
   "version": "3.12.1"
  }
 },
 "nbformat": 4,
 "nbformat_minor": 5
}
